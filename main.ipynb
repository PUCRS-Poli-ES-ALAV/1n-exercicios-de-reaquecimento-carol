{
  "nbformat": 4,
  "nbformat_minor": 0,
  "metadata": {
    "colab": {
      "provenance": [],
      "authorship_tag": "ABX9TyPDWbLvBN5KlEWmvBd+aqW0",
      "include_colab_link": true
    },
    "kernelspec": {
      "name": "python3",
      "display_name": "Python 3"
    },
    "language_info": {
      "name": "python"
    }
  },
  "cells": [
    {
      "cell_type": "markdown",
      "metadata": {
        "id": "view-in-github",
        "colab_type": "text"
      },
      "source": [
        "<a href=\"https://colab.research.google.com/github/PUCRS-Poli-ES-ALAV/1n-exercicios-de-reaquecimento-wm/blob/main/main.ipynb\" target=\"_parent\"><img src=\"https://colab.research.google.com/assets/colab-badge.svg\" alt=\"Open In Colab\"/></a>"
      ]
    },
    {
      "cell_type": "markdown",
      "source": [
        "# Desenvolva algoritmos recursivos para os seguintes problemas e implemente-os (em Java, por exemplo):*texto em itálico*"
      ],
      "metadata": {
        "id": "-q8h4eZaazzB"
      }
    },
    {
      "cell_type": "markdown",
      "source": [
        "Multiplicação de dois números naturais, através de somas sucessivas"
      ],
      "metadata": {
        "id": "uG0che0fa9y2"
      }
    },
    {
      "cell_type": "code",
      "execution_count": null,
      "metadata": {
        "colab": {
          "base_uri": "https://localhost:8080/"
        },
        "id": "3FkXGMWCaaOh",
        "outputId": "47c0b581-b41b-4715-9d7d-751e11e087cc"
      },
      "outputs": [
        {
          "output_type": "stream",
          "name": "stdout",
          "text": [
            "24\n"
          ]
        }
      ],
      "source": [
        "def multiplicacao_recursiva(a, b):\n",
        "    if b == 0:\n",
        "        return 0\n",
        "    return a + multiplicacao_recursiva(a, b - 1)\n",
        "resultado = multiplicacao_recursiva(6, 4)\n",
        "print(resultado)\n"
      ]
    },
    {
      "cell_type": "markdown",
      "source": [
        "Soma de `dois` números naturais, através de incrementos *sucessivos*"
      ],
      "metadata": {
        "id": "6rSmo2twcaFN"
      }
    },
    {
      "cell_type": "code",
      "source": [
        "def soma_sucessiva(a, b):\n",
        "  if b == 0:\n",
        "    return a\n",
        "  a += 1\n",
        "  return soma_sucessiva(a, b-1)\n",
        "\n",
        "resultado = soma_sucessiva(4,4)\n",
        "print(resultado)\n"
      ],
      "metadata": {
        "colab": {
          "base_uri": "https://localhost:8080/"
        },
        "id": "caZfwRm-cf7t",
        "outputId": "b0f647a2-012f-4758-dbc4-907cb14eaef5"
      },
      "execution_count": null,
      "outputs": [
        {
          "output_type": "stream",
          "name": "stdout",
          "text": [
            "8\n"
          ]
        }
      ]
    },
    {
      "cell_type": "markdown",
      "source": [
        "Cálculo de 1 + 1/2 + 1/3 + 1/4 + ... + 1/N.\n",
        "\n"
      ],
      "metadata": {
        "id": "TVhwKdzcejlt"
      }
    },
    {
      "cell_type": "code",
      "source": [
        "def soma_divisao(n):\n",
        "  if n == 1:\n",
        "    return n\n",
        "  return 1 / n + soma_divisao(n - 1)\n",
        "\n",
        "resultado = soma_divisao(5)\n",
        "print(resultado)"
      ],
      "metadata": {
        "colab": {
          "base_uri": "https://localhost:8080/"
        },
        "id": "NxNs4I3qemNk",
        "outputId": "a74691cd-eab6-4a6e-c0d1-38b819fde288"
      },
      "execution_count": null,
      "outputs": [
        {
          "output_type": "stream",
          "name": "stdout",
          "text": [
            "2.283333333333333\n"
          ]
        }
      ]
    },
    {
      "cell_type": "markdown",
      "source": [
        "Inversão de uma string"
      ],
      "metadata": {
        "id": "hQPDFoWgijDp"
      }
    },
    {
      "cell_type": "code",
      "source": [
        "def inverte_string(string):\n",
        "  if len(string) <= 1:\n",
        "    return string\n",
        "  return inverte_string(string[1:]) + string[0]\n",
        "\n",
        "print(inverte_string(\"teste\"))"
      ],
      "metadata": {
        "colab": {
          "base_uri": "https://localhost:8080/"
        },
        "id": "3j4OgHpoiwJR",
        "outputId": "e20cdadf-fb99-4eaa-cf08-16c4e3671aab"
      },
      "execution_count": null,
      "outputs": [
        {
          "output_type": "stream",
          "name": "stdout",
          "text": [
            "etset\n"
          ]
        }
      ]
    },
    {
      "cell_type": "markdown",
      "source": [
        "Gerador da sequência dada por:\n",
        "*   F(1) = 1\n",
        "*   F(2) = 2\n",
        "*   F(n) = 2 ∗ F(n − 1) + 3 ∗ F(n − 2)."
      ],
      "metadata": {
        "id": "uGHg90cRmcjD"
      }
    },
    {
      "cell_type": "code",
      "source": [
        "def funcao(num):\n",
        "  if num == 1:\n",
        "   return num\n",
        "  return 2 * funcao(num - 1) + 3\n",
        "\n",
        "print(funcao(3))"
      ],
      "metadata": {
        "colab": {
          "base_uri": "https://localhost:8080/"
        },
        "id": "ScQHjHCAmshN",
        "outputId": "4ce52217-200d-4fa8-ab70-37b2f9aec2c0"
      },
      "execution_count": 3,
      "outputs": [
        {
          "output_type": "stream",
          "name": "stdout",
          "text": [
            "13\n"
          ]
        }
      ]
    },
    {
      "cell_type": "markdown",
      "source": [
        "Gerador de Sequência de Ackerman:\n",
        "* A(m, n) = n + 1, se m = 0\n",
        "* A(m, n) = A(m − 1, 1), se m != 0 e n = 0\n",
        "* A(m, n) = A(m − 1, A(m, n − 1)), se m != 0 e n != 0"
      ],
      "metadata": {
        "id": "xZnasEzy5TrN"
      }
    },
    {
      "cell_type": "code",
      "source": [
        "def ackerman(m, n):\n",
        "  if m == 0:\n",
        "    return n + 1\n",
        "  elif n == 0:\n",
        "    return ackerman(m - 1, 1)\n",
        "  else:\n",
        "    return ackerman(m - 1, ackerman(m, n - 1))\n",
        "\n",
        "print(ackerman(2,3))"
      ],
      "metadata": {
        "colab": {
          "base_uri": "https://localhost:8080/"
        },
        "id": "5XtPjoiB5Zrj",
        "outputId": "a42c026e-59db-45f9-cca3-e471a36c2b7f"
      },
      "execution_count": 2,
      "outputs": [
        {
          "output_type": "stream",
          "name": "stdout",
          "text": [
            "9\n"
          ]
        }
      ]
    },
    {
      "cell_type": "markdown",
      "source": [
        "A partir de um vetor de números inteiros, calcule a soma e o produto dos elementos do vetor."
      ],
      "metadata": {
        "id": "XgREVN_NXyex"
      }
    },
    {
      "cell_type": "code",
      "source": [
        "def soma_e_produto(lista):\n",
        "    if not lista:\n",
        "        return (0, 1)\n",
        "\n",
        "    soma_restante, produto_restante = soma_e_produto(lista[1:])\n",
        "    return lista[0] + soma_restante, lista[0] * produto_restante\n",
        "\n",
        "numeros = [1, 2, 3, 4, 5]\n",
        "print(soma_e_produto(numeros))"
      ],
      "metadata": {
        "colab": {
          "base_uri": "https://localhost:8080/"
        },
        "id": "nzk9jDnaXzYO",
        "outputId": "f219cd60-e55a-453a-e7ca-e3ac73c89a16"
      },
      "execution_count": 1,
      "outputs": [
        {
          "output_type": "stream",
          "name": "stdout",
          "text": [
            "(15, 120)\n"
          ]
        }
      ]
    },
    {
      "cell_type": "markdown",
      "source": [
        "Verifique se uma palavra é palíndromo (Ex. aba, abcba, xyzzyx)."
      ],
      "metadata": {
        "id": "NSUWkVv_Ut9F"
      }
    },
    {
      "cell_type": "code",
      "source": [
        "def palindromo(string):\n",
        "  if len(string) <= 1:\n",
        "    return True\n",
        "  if string[0] != string[-1]:\n",
        "    return False\n",
        "  return palindromo(string[1:-1])\n",
        "\n",
        "print(palindromo(\"osso\"))\n",
        "print(palindromo(\"palavra\"))"
      ],
      "metadata": {
        "colab": {
          "base_uri": "https://localhost:8080/"
        },
        "id": "dfvR-HrLUvvA",
        "outputId": "0755cb3f-7d27-4a11-f38b-a7a7ad951806"
      },
      "execution_count": 8,
      "outputs": [
        {
          "output_type": "stream",
          "name": "stdout",
          "text": [
            "True\n",
            "False\n"
          ]
        }
      ]
    },
    {
      "cell_type": "markdown",
      "source": [
        "Dado um número n, gere todas as possíveis combinações com as n primeiras letras do alfabeto. Ex.: n = 3. Resposta: ABC, ACB, BAC, BCA, CAB, CBA."
      ],
      "metadata": {
        "id": "8xUrJCzh8bCK"
      }
    },
    {
      "cell_type": "code",
      "source": [
        "def gerar_permutacoes(prefixo, letras, resultado):\n",
        "    if not letras:\n",
        "        resultado.append(prefixo)\n",
        "        return\n",
        "\n",
        "    for i in range(len(letras)):\n",
        "        nova_letras = letras[:i] + letras[i+1:]\n",
        "        gerar_permutacoes(prefixo + letras[i], nova_letras, resultado)\n",
        "\n",
        "def gerar_combinacoes(n):\n",
        "    alfabeto = [chr(65 + i) for i in range(n)]\n",
        "    resultado = []\n",
        "    gerar_permutacoes(\"\", alfabeto, resultado)\n",
        "    return resultado\n",
        "\n",
        "print(gerar_combinacoes(3))\n"
      ],
      "metadata": {
        "colab": {
          "base_uri": "https://localhost:8080/"
        },
        "id": "nlPBop9C8dtd",
        "outputId": "531ca09c-00ca-48ff-e49e-ff7107d6e042"
      },
      "execution_count": 3,
      "outputs": [
        {
          "output_type": "stream",
          "name": "stdout",
          "text": [
            "['ABC', 'ACB', 'BAC', 'BCA', 'CAB', 'CBA']\n"
          ]
        }
      ]
    },
    {
      "cell_type": "markdown",
      "source": [
        "Defina uma sequência de Fibonacci generalizada, de f0 a f1 como sequência fibg* * (f0, f1, 0), fibg(f0, f1, 1), fibg(f0, f1, 2), ..., onde:\n",
        "* fibg(f0, f1, 0) = f0\n",
        "* fibg(f0, f1, 1) = f1\n",
        "* fibg(f0, f1, n) = fibg(f0, f1, n − 1) + fibg(f0, f1, n − 2), se n > 1."
      ],
      "metadata": {
        "id": "dah9dfMi--V7"
      }
    },
    {
      "cell_type": "code",
      "source": [
        "def fibonacci(f0, f1, n):\n",
        "  if n == 0:\n",
        "    return f0\n",
        "  elif n == 1:\n",
        "    return f1\n",
        "  else:\n",
        "    if n > 1:\n",
        "      return fibonacci(f0, f1, n - 1) + fibonacci(f0, f1, n - 2)\n",
        "\n",
        "print(fibonacci(3,2,3))"
      ],
      "metadata": {
        "colab": {
          "base_uri": "https://localhost:8080/"
        },
        "id": "X-LAOlMy_LOP",
        "outputId": "06d447b3-65dd-4bdf-ef72-a4aa64e43017"
      },
      "execution_count": 6,
      "outputs": [
        {
          "output_type": "stream",
          "name": "stdout",
          "text": [
            "7\n"
          ]
        }
      ]
    }
  ]
}